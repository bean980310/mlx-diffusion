{
 "cells": [
  {
   "cell_type": "code",
   "execution_count": null,
   "id": "a2afd613",
   "metadata": {},
   "outputs": [],
   "source": [
    "from diffusers import StableDiffusionPipeline\n",
    "from safetensors import safe_open\n",
    "\n",
    "pipeline = StableDiffusionPipeline.from_single_file(\"AnythingXL_inkBase.safetensors\")"
   ]
  },
  {
   "cell_type": "code",
   "execution_count": null,
   "id": "e2774eaf",
   "metadata": {},
   "outputs": [],
   "source": [
    "pipeline = pipeline.to(\"mps\")"
   ]
  },
  {
   "cell_type": "code",
   "execution_count": null,
   "id": "9d558022",
   "metadata": {},
   "outputs": [],
   "source": [
    "pipeline.enable_attention_slicing()"
   ]
  },
  {
   "cell_type": "code",
   "execution_count": null,
   "id": "c14d8004",
   "metadata": {},
   "outputs": [],
   "source": [
    "prompt = \"masterpiece, best quality, 1girl, large breasts, black hair, blue eyes\""
   ]
  },
  {
   "cell_type": "code",
   "execution_count": null,
   "id": "290347fd",
   "metadata": {},
   "outputs": [],
   "source": [
    "negative_prompt = \"lowres, bad anatomy, error, blurry, bad hands, missing fingers, extra digit, fewer digits, cropped, worst quality, low quality\""
   ]
  },
  {
   "cell_type": "code",
   "execution_count": null,
   "id": "3c3d63ce",
   "metadata": {},
   "outputs": [],
   "source": [
    "height = 768"
   ]
  },
  {
   "cell_type": "code",
   "execution_count": null,
   "id": "e4f9585b",
   "metadata": {},
   "outputs": [],
   "source": [
    "width = 512"
   ]
  },
  {
   "cell_type": "code",
   "execution_count": null,
   "id": "6059ecc5",
   "metadata": {},
   "outputs": [],
   "source": [
    "num_inference_steps = 20"
   ]
  },
  {
   "cell_type": "code",
   "execution_count": null,
   "id": "5c4a4812",
   "metadata": {},
   "outputs": [],
   "source": [
    "guidance_scale = 7.5"
   ]
  },
  {
   "cell_type": "code",
   "execution_count": null,
   "id": "131a0c90",
   "metadata": {},
   "outputs": [],
   "source": [
    "import torch"
   ]
  },
  {
   "cell_type": "code",
   "execution_count": null,
   "id": "ecda709f",
   "metadata": {},
   "outputs": [],
   "source": [
    "generator = torch.manual_seed(42)\n",
    "\n",
    "image = pipeline(prompt, height, width, num_inference_steps, guidance_scale=guidance_scale, negative_prompt=negative_prompt, generator=generator).images[0]"
   ]
  },
  {
   "cell_type": "code",
   "execution_count": null,
   "id": "c3459620",
   "metadata": {},
   "outputs": [],
   "source": [
    "image"
   ]
  },
  {
   "cell_type": "code",
   "execution_count": null,
   "id": "0a5770ac",
   "metadata": {},
   "outputs": [],
   "source": [
    "image.save(\"test2.png\")"
   ]
  },
  {
   "cell_type": "code",
   "execution_count": null,
   "id": "469b2315",
   "metadata": {},
   "outputs": [],
   "source": []
  }
 ],
 "metadata": {
  "kernelspec": {
   "display_name": "mlx-diffusion",
   "language": "python",
   "name": "python3"
  },
  "language_info": {
   "codemirror_mode": {
    "name": "ipython",
    "version": 3
   },
   "file_extension": ".py",
   "mimetype": "text/x-python",
   "name": "python",
   "nbconvert_exporter": "python",
   "pygments_lexer": "ipython3",
   "version": "3.12.10"
  }
 },
 "nbformat": 4,
 "nbformat_minor": 5
}
